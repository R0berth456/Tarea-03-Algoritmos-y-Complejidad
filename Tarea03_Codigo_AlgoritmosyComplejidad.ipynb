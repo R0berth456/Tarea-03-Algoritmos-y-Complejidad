{
  "nbformat": 4,
  "nbformat_minor": 0,
  "metadata": {
    "colab": {
      "provenance": [],
      "authorship_tag": "ABX9TyMEP9ZDi7JPK60BWnLcknb2",
      "include_colab_link": true
    },
    "kernelspec": {
      "name": "python3",
      "display_name": "Python 3"
    },
    "language_info": {
      "name": "python"
    }
  },
  "cells": [
    {
      "cell_type": "markdown",
      "metadata": {
        "id": "view-in-github",
        "colab_type": "text"
      },
      "source": [
        "<a href=\"https://colab.research.google.com/github/R0berth456/Tarea-03-Algoritmos-y-Convergencia/blob/main/Tarea03_Codigo_AlgoritmosyComplejidad.ipynb\" target=\"_parent\"><img src=\"https://colab.research.google.com/assets/colab-badge.svg\" alt=\"Open In Colab\"/></a>"
      ]
    },
    {
      "cell_type": "markdown",
      "source": [
        "# **Tarea 03 Algoritmos y complejidad**"
      ],
      "metadata": {
        "id": "iqGS7rqqQou3"
      }
    },
    {
      "cell_type": "markdown",
      "source": [
        "*Conjunto de Ejercicios*"
      ],
      "metadata": {
        "id": "RsPdYo1QjtMF"
      }
    },
    {
      "cell_type": "markdown",
      "source": [
        "Primer Literal"
      ],
      "metadata": {
        "id": "Zy2f_iRxb6yE"
      }
    },
    {
      "cell_type": "code",
      "source": [
        "def alg_01_valor_real(n: int)->float:\n",
        "  SUM = 0\n",
        "  for i in range(1,n+1):\n",
        "    SUM = SUM + 1/i**2\n",
        "  return SUM"
      ],
      "metadata": {
        "id": "-tvX-YY9bI_A"
      },
      "execution_count": null,
      "outputs": []
    },
    {
      "cell_type": "code",
      "source": [
        "valor_real = alg_01_valor_real(10)\n",
        "valor_real"
      ],
      "metadata": {
        "colab": {
          "base_uri": "https://localhost:8080/"
        },
        "id": "A0O7-9LkbxpC",
        "outputId": "119261c9-2e5e-4a1d-8317-09b60ae4d418"
      },
      "execution_count": null,
      "outputs": [
        {
          "output_type": "execute_result",
          "data": {
            "text/plain": [
              "1.5497677311665408"
            ]
          },
          "metadata": {},
          "execution_count": 32
        }
      ]
    },
    {
      "cell_type": "code",
      "execution_count": null,
      "metadata": {
        "id": "1IOsg7B4QlsI"
      },
      "outputs": [],
      "source": [
        "def alg_01(n: int)->float:\n",
        "  SUM = 0\n",
        "  for i in range(1,n+1):\n",
        "    SUM = round(SUM + round(1/i**2,2),2)\n",
        "  return SUM"
      ]
    },
    {
      "cell_type": "code",
      "source": [
        "a = alg_01(10)\n",
        "a"
      ],
      "metadata": {
        "colab": {
          "base_uri": "https://localhost:8080/"
        },
        "id": "uYkmJXxERwXB",
        "outputId": "a0c2b19e-c65a-4cc4-9791-c750b1a04787"
      },
      "execution_count": null,
      "outputs": [
        {
          "output_type": "execute_result",
          "data": {
            "text/plain": [
              "1.55"
            ]
          },
          "metadata": {},
          "execution_count": 20
        }
      ]
    },
    {
      "cell_type": "code",
      "source": [
        "def alg_02_valor_real(n: int)->float:\n",
        "  SUM = 0\n",
        "  for i in range(1,n+1):\n",
        "    SUM = SUM + 1/i**3\n",
        "  return SUM"
      ],
      "metadata": {
        "id": "mSGT3liwggJv"
      },
      "execution_count": null,
      "outputs": []
    },
    {
      "cell_type": "code",
      "source": [
        "valor_real = alg_02_valor_real(10)\n",
        "valor_real"
      ],
      "metadata": {
        "colab": {
          "base_uri": "https://localhost:8080/"
        },
        "id": "hq629jK7gmGB",
        "outputId": "474ec224-c6d6-44cc-c9bc-6b76e2c9bcc8"
      },
      "execution_count": null,
      "outputs": [
        {
          "output_type": "execute_result",
          "data": {
            "text/plain": [
              "1.197531985674193"
            ]
          },
          "metadata": {},
          "execution_count": 36
        }
      ]
    },
    {
      "cell_type": "code",
      "source": [
        "def alg_02(n: int)->float:\n",
        "  SUM = 0\n",
        "  for i in range(1,n+1):\n",
        "    SUM = round(SUM + round(1/i**3,2),2)\n",
        "  return SUM"
      ],
      "metadata": {
        "id": "1odmoT5qh6Gy"
      },
      "execution_count": null,
      "outputs": []
    },
    {
      "cell_type": "code",
      "source": [
        "a = alg_02(10)\n",
        "a"
      ],
      "metadata": {
        "colab": {
          "base_uri": "https://localhost:8080/"
        },
        "id": "xZkeWtWZh8Y8",
        "outputId": "cadfa371-286a-4e87-bb72-7646f1d8e1cf"
      },
      "execution_count": null,
      "outputs": [
        {
          "output_type": "execute_result",
          "data": {
            "text/plain": [
              "1.19"
            ]
          },
          "metadata": {},
          "execution_count": 45
        }
      ]
    },
    {
      "cell_type": "markdown",
      "source": [
        "Segundo Literal"
      ],
      "metadata": {
        "id": "1ecGLVE0jh_g"
      }
    },
    {
      "cell_type": "code",
      "source": [
        "def maclaurin_arctan(x, n):\n",
        "  sum = 0\n",
        "  for i in range(n):\n",
        "    term = ((-1)**i) * (x**(2*i + 1)) / (2*i + 1)\n",
        "    sum += term\n",
        "\n",
        "  return sum"
      ],
      "metadata": {
        "id": "3tqhhct5ZED2"
      },
      "execution_count": null,
      "outputs": []
    },
    {
      "cell_type": "code",
      "source": [
        "x = 1\n",
        "n = 1001\n",
        "arctan_x = maclaurin_arctan(x, n)\n",
        "print(arctan_x)"
      ],
      "metadata": {
        "colab": {
          "base_uri": "https://localhost:8080/"
        },
        "id": "-JfJ2ldWZOPQ",
        "outputId": "363ca927-a516-46a1-f477-03d43d9bb955"
      },
      "execution_count": null,
      "outputs": [
        {
          "output_type": "stream",
          "name": "stdout",
          "text": [
            "0.7856479135848861\n"
          ]
        }
      ]
    },
    {
      "cell_type": "code",
      "source": [
        "#Verificación de |4P1001(1) - π|<10^-3\n",
        "import math\n",
        "print(abs(4*arctan_x-math.pi)< 10**(-3))"
      ],
      "metadata": {
        "colab": {
          "base_uri": "https://localhost:8080/"
        },
        "id": "_cRnDKP-bdxr",
        "outputId": "70a4af9c-e601-46a2-b276-726494e4547a"
      },
      "execution_count": null,
      "outputs": [
        {
          "output_type": "stream",
          "name": "stdout",
          "text": [
            "True\n"
          ]
        }
      ]
    },
    {
      "cell_type": "markdown",
      "source": [
        "Tercer Literal"
      ],
      "metadata": {
        "id": "_65MmW0Ye3tB"
      }
    },
    {
      "cell_type": "code",
      "source": [
        "from numpy import arctan\n",
        "SUM = 0\n",
        "n = 1\n",
        "for i in range(1,n+1):\n",
        "  SUM = SUM + 4*(4*arctan(1/5)-arctan(1/239))\n",
        "print(SUM)\n",
        "print(abs(math.pi-SUM))"
      ],
      "metadata": {
        "colab": {
          "base_uri": "https://localhost:8080/"
        },
        "id": "d3Htqdk1F6S4",
        "outputId": "00a171ae-4a04-4d66-d521-10f93127f0dd"
      },
      "execution_count": 7,
      "outputs": [
        {
          "output_type": "stream",
          "name": "stdout",
          "text": [
            "3.1415926535897936\n",
            "4.440892098500626e-16\n"
          ]
        }
      ]
    },
    {
      "cell_type": "markdown",
      "source": [
        "Cuarto Literal"
      ],
      "metadata": {
        "id": "Hw1JlOPKLXwm"
      }
    },
    {
      "cell_type": "code",
      "source": [
        "def mul(n):\n",
        "  product = 0\n",
        "  for i in range(1,len(n)+1):\n",
        "    product *= n[i-1]\n",
        "  return product\n",
        "\n"
      ],
      "metadata": {
        "id": "rRqavwB_LV6Q"
      },
      "execution_count": 11,
      "outputs": []
    },
    {
      "cell_type": "code",
      "source": [
        "mul([1,2,3,4,5])"
      ],
      "metadata": {
        "colab": {
          "base_uri": "https://localhost:8080/"
        },
        "id": "yqOra0B6QBTa",
        "outputId": "7fa2bd73-5bf3-41a3-d919-7f95271d8c91"
      },
      "execution_count": 12,
      "outputs": [
        {
          "output_type": "execute_result",
          "data": {
            "text/plain": [
              "0"
            ]
          },
          "metadata": {},
          "execution_count": 12
        }
      ]
    },
    {
      "cell_type": "code",
      "source": [
        "def mul1(n):\n",
        "  product = 1\n",
        "  for i in range(1,len(n)+1):\n",
        "    product *= n[i-1]\n",
        "  return product"
      ],
      "metadata": {
        "id": "C9GK-8XdQN3E"
      },
      "execution_count": 15,
      "outputs": []
    },
    {
      "cell_type": "code",
      "source": [
        "mul1([1,2,3,4,5])"
      ],
      "metadata": {
        "colab": {
          "base_uri": "https://localhost:8080/"
        },
        "id": "onNGNYzKQdCL",
        "outputId": "db25a17c-07d9-44cb-ca70-1bc1addcb8f9"
      },
      "execution_count": 16,
      "outputs": [
        {
          "output_type": "execute_result",
          "data": {
            "text/plain": [
              "120"
            ]
          },
          "metadata": {},
          "execution_count": 16
        }
      ]
    },
    {
      "cell_type": "code",
      "source": [
        "def mul2(n):\n",
        "  product = 1\n",
        "  for i in range(1, len(n)+1):\n",
        "    if n[i-1] == 0:\n",
        "      return 0\n",
        "    product *= n[i-1]\n",
        "  return product"
      ],
      "metadata": {
        "id": "hG6ToM_tQkLk"
      },
      "execution_count": 17,
      "outputs": []
    },
    {
      "cell_type": "code",
      "source": [
        "mul2([1,2,3,4,5])"
      ],
      "metadata": {
        "colab": {
          "base_uri": "https://localhost:8080/"
        },
        "id": "SNbrR4rvQ2e3",
        "outputId": "bb6b2f64-16c8-4002-f1ea-324ca7c8cb88"
      },
      "execution_count": 18,
      "outputs": [
        {
          "output_type": "execute_result",
          "data": {
            "text/plain": [
              "120"
            ]
          },
          "metadata": {},
          "execution_count": 18
        }
      ]
    },
    {
      "cell_type": "markdown",
      "source": [
        "Quinto Literal"
      ],
      "metadata": {
        "id": "6FFmgvZBQ7Ek"
      }
    },
    {
      "cell_type": "code",
      "source": [
        "def sum(n, m):\n",
        "  total = 0\n",
        "  for i in range(1,len(n)+1):\n",
        "    for j in range(1, i):\n",
        "      total = total + n[i-1] * m[j-1]\n",
        "  return total\n",
        ""
      ],
      "metadata": {
        "id": "oYPmHPR8RAqL"
      },
      "execution_count": 21,
      "outputs": []
    },
    {
      "cell_type": "code",
      "source": [
        "def sum2(n):\n",
        "  total = 0\n",
        "  for i in range(1,len(n)+1):\n",
        "    total = total + 1/2*(n[i-1])**2*(n[i-1]+1)\n",
        "  return total"
      ],
      "metadata": {
        "id": "bm8jvgGtZQnj"
      },
      "execution_count": 22,
      "outputs": []
    },
    {
      "cell_type": "markdown",
      "source": [
        "Discuciones"
      ],
      "metadata": {
        "id": "m6kxWTzpcqrZ"
      }
    },
    {
      "cell_type": "markdown",
      "source": [
        "Primer Literal"
      ],
      "metadata": {
        "id": "jGNOYJgOeane"
      }
    },
    {
      "cell_type": "code",
      "source": [
        "def sum3(n):\n",
        "  TOTAL = 0\n",
        "  for i in range(len(n),0,-1):\n",
        "    TOTAL = TOTAL + n[i]\n",
        "  return TOTAL"
      ],
      "metadata": {
        "id": "Q-9bEl4yct0G"
      },
      "execution_count": 25,
      "outputs": []
    },
    {
      "cell_type": "markdown",
      "source": [
        "Segundo Literal"
      ],
      "metadata": {
        "id": "QOWF0IWDfPBr"
      }
    },
    {
      "cell_type": "code",
      "source": [
        "import cmath\n",
        "\n",
        "def encontrar_raices(a, b, c):\n",
        "    # Calcula el discriminante\n",
        "    discriminante = b**2 - 4*a*c\n",
        "\n",
        "    # Calcula las dos raíces usando cmath.sqrt para manejar números complejos\n",
        "    if discriminante >= 0:\n",
        "        # Raíces reales\n",
        "        raiz1 = (-b + cmath.sqrt(discriminante).real) / (2*a)\n",
        "        raiz2 = (-b - cmath.sqrt(discriminante).real) / (2*a)\n",
        "        return (raiz1, raiz2), \"Reales\"\n",
        "    else:\n",
        "        # Raíces complejas\n",
        "        raiz1 = (-b + cmath.sqrt(discriminante)) / (2*a)\n",
        "        raiz2 = (-b - cmath.sqrt(discriminante)) / (2*a)\n",
        "        return (raiz1, raiz2), \"Complejas\"\n",
        "\n",
        "# Ejemplo de uso:\n",
        "a = 3\n",
        "b = 2\n",
        "c = -8\n",
        "\n",
        "(raiz1, raiz2), tipo = encontrar_raices(a, b, c)\n",
        "if tipo == \"Reales\":\n",
        "    print(f\"Las raíces de la ecuación son reales: {raiz1} y {raiz2}\")\n",
        "else:\n",
        "    print(f\"Las raíces de la ecuación son complejas: {raiz1} y {raiz2}\")\n"
      ],
      "metadata": {
        "colab": {
          "base_uri": "https://localhost:8080/"
        },
        "id": "EVfgyWq-h9ng",
        "outputId": "6ac7fcc8-b00f-476d-dc51-31bfb451628a"
      },
      "execution_count": 34,
      "outputs": [
        {
          "output_type": "stream",
          "name": "stdout",
          "text": [
            "Las raíces de la ecuación son reales: 1.3333333333333333 y -2.0\n"
          ]
        }
      ]
    },
    {
      "cell_type": "markdown",
      "source": [
        "Tercer Literal"
      ],
      "metadata": {
        "id": "Fdh5OmUOjJAt"
      }
    },
    {
      "cell_type": "code",
      "source": [
        "def calcular_lado_izquierdo(x: float):\n",
        "  suma_lado_izquierdo = 0.0\n",
        "  termino = 1.0\n",
        "  denominador = 1.0\n",
        "  while True:\n",
        "    suma_lado_izquierdo += ((2.0**(termino - 1.0)*x**(2.0*termino - 1.0))/denominador)\n",
        "    if abs(suma_lado_izquierdo - ((1.0+2.0*x)/(1.0 + x + x**2))) < 1e-6:\n",
        "      break\n",
        "    termino += 1.0\n",
        "    denominador *= 1.0 - x**(2.0*termino)\n",
        "  return termino"
      ],
      "metadata": {
        "id": "LtCeSPDOjPJs"
      },
      "execution_count": 44,
      "outputs": []
    }
  ]
}