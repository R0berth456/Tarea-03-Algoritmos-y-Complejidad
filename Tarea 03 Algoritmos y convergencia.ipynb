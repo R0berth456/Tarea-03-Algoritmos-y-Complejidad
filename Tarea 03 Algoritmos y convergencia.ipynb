{
  "nbformat": 4,
  "nbformat_minor": 0,
  "metadata": {
    "colab": {
      "provenance": [],
      "authorship_tag": "ABX9TyNtGOkjIGKWGg23NG+Rau9a",
      "include_colab_link": true
    },
    "kernelspec": {
      "name": "python3",
      "display_name": "Python 3"
    },
    "language_info": {
      "name": "python"
    }
  },
  "cells": [
    {
      "cell_type": "markdown",
      "metadata": {
        "id": "view-in-github",
        "colab_type": "text"
      },
      "source": [
        "<a href=\"https://colab.research.google.com/github/R0berth456/Tarea-03-Algoritmos-y-Convergencia/blob/main/Tarea%2003%20Algoritmos%20y%20convergencia.ipynb\" target=\"_parent\"><img src=\"https://colab.research.google.com/assets/colab-badge.svg\" alt=\"Open In Colab\"/></a>"
      ]
    },
    {
      "cell_type": "markdown",
      "source": [
        "# Tarea 03 Algoritmos y convergencia"
      ],
      "metadata": {
        "id": "iqGS7rqqQou3"
      }
    },
    {
      "cell_type": "code",
      "execution_count": 19,
      "metadata": {
        "id": "1IOsg7B4QlsI"
      },
      "outputs": [],
      "source": [
        "def alg_01(n: int)->float:\n",
        "  SUM = 0\n",
        "  for i in range(1,n+1):\n",
        "    SUM = round(SUM + round(1/i**2,2),2)\n",
        "  return SUM"
      ]
    },
    {
      "cell_type": "code",
      "source": [
        "a = alg_01(10)\n",
        "a"
      ],
      "metadata": {
        "colab": {
          "base_uri": "https://localhost:8080/"
        },
        "id": "uYkmJXxERwXB",
        "outputId": "a0c2b19e-c65a-4cc4-9791-c750b1a04787"
      },
      "execution_count": 20,
      "outputs": [
        {
          "output_type": "execute_result",
          "data": {
            "text/plain": [
              "1.55"
            ]
          },
          "metadata": {},
          "execution_count": 20
        }
      ]
    }
  ]
}